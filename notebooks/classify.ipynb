{
 "cells": [
  {
   "cell_type": "code",
   "execution_count": 9,
   "metadata": {
    "_cell_guid": "c6319b06-e6bd-91a6-f1fb-62a2288a49d8",
    "collapsed": false
   },
   "outputs": [
    {
     "name": "stdout",
     "output_type": "stream",
     "text": [
      "test\n",
      "train\n",
      "\n"
     ]
    }
   ],
   "source": [
    "# This Python 3 environment comes with many helpful analytics libraries installed\n",
    "# It is defined by the kaggle/python docker image: https://github.com/kaggle/docker-python\n",
    "# For example, here's several helpful packages to load in \n",
    "\n",
    "import numpy as np # linear algebra\n",
    "import pandas as pd # data processing, CSV file I/O (e.g. pd.read_csv)\n",
    "\n",
    "# Input data files are available in the \"../input/\" directory.\n",
    "# For example, running this (by clicking run or pressing Shift+Enter) will list the files in the input directory\n",
    "\n",
    "from subprocess import check_output\n",
    "print(check_output([\"ls\", \"./cropped_input\"]).decode(\"utf8\"))\n",
    "\n",
    "# Any results you write to the current directory are saved as output."
   ]
  },
  {
   "cell_type": "code",
   "execution_count": 10,
   "metadata": {
    "_cell_guid": "a8dcc109-9ea9-11d0-9eb8-d195c0dcc67b",
    "collapsed": false
   },
   "outputs": [
    {
     "name": "stdout",
     "output_type": "stream",
     "text": [
      "Type_1\n",
      "Type_2\n",
      "Type_3\n",
      "\n"
     ]
    }
   ],
   "source": [
    "from subprocess import check_output\n",
    "print(check_output([\"ls\", \"./cropped_input/train\"]).decode(\"utf8\"))"
   ]
  },
  {
   "cell_type": "code",
   "execution_count": 11,
   "metadata": {
    "_cell_guid": "7c8b65d1-9e08-1121-958c-bc8442af5a26",
    "collapsed": true
   },
   "outputs": [],
   "source": [
    "import glob\n",
    "train= glob.glob(\"./cropped_input/train/**/*.jpg\")#+glob.glob(\"../input/additional/**/*.jpg\")\n",
    "train = pd.DataFrame([[p.split('/')[3],p.split('/')[4],p] for p in train], columns = ['type','image','path'])\n",
    "test = glob.glob(\"./cropped_input/test/*.jpg\")\n",
    "test = pd.DataFrame([[p.split('/')[3],p] for p in test], columns = ['image','path'])"
   ]
  },
  {
   "cell_type": "code",
   "execution_count": 12,
   "metadata": {
    "_cell_guid": "4496b4a6-2b5e-79a6-78c4-d40d0934b9de",
    "collapsed": false
   },
   "outputs": [
    {
     "data": {
      "text/plain": [
       "<matplotlib.axes._subplots.AxesSubplot at 0x133de9d68>"
      ]
     },
     "execution_count": 12,
     "metadata": {},
     "output_type": "execute_result"
    },
    {
     "data": {
      "image/png": "[encoded data removed]",
      "text/plain": [
       "<matplotlib.figure.Figure at 0x11a636940>"
      ]
     },
     "metadata": {},
     "output_type": "display_data"
    }
   ],
   "source": [
    "from PIL import ImageFilter, ImageStat, Image, ImageDraw\n",
    "import matplotlib.pyplot as plt\n",
    "import seaborn as sns\n",
    "%matplotlib inline\n",
    "import cv2\n",
    "\n",
    "types = train.groupby('type', as_index=False).count()\n",
    "types.plot(kind='bar', x='type', y='path', figsize=(7,4))"
   ]
  },
  {
   "cell_type": "code",
   "execution_count": 13,
   "metadata": {
    "_cell_guid": "3be2df98-df97-ce0c-054e-ecadfa9403fd",
    "collapsed": false
   },
   "outputs": [
    {
     "data": {
      "text/html": [
       "<div>\n",
       "<table border=\"1\" class=\"dataframe\">\n",
       "  <thead>\n",
       "    <tr style=\"text-align: right;\">\n",
       "      <th></th>\n",
       "      <th>type</th>\n",
       "      <th>image</th>\n",
       "      <th>path</th>\n",
       "    </tr>\n",
       "  </thead>\n",
       "  <tbody>\n",
       "    <tr>\n",
       "      <th>0</th>\n",
       "      <td>Type_1</td>\n",
       "      <td>249</td>\n",
       "      <td>249</td>\n",
       "    </tr>\n",
       "    <tr>\n",
       "      <th>1</th>\n",
       "      <td>Type_2</td>\n",
       "      <td>780</td>\n",
       "      <td>780</td>\n",
       "    </tr>\n",
       "    <tr>\n",
       "      <th>2</th>\n",
       "      <td>Type_3</td>\n",
       "      <td>449</td>\n",
       "      <td>449</td>\n",
       "    </tr>\n",
       "  </tbody>\n",
       "</table>\n",
       "</div>"
      ],
      "text/plain": [
       "     type  image  path\n",
       "0  Type_1    249   249\n",
       "1  Type_2    780   780\n",
       "2  Type_3    449   449"
      ]
     },
     "execution_count": 13,
     "metadata": {},
     "output_type": "execute_result"
    }
   ],
   "source": [
    "types"
   ]
  },
  {
   "cell_type": "code",
   "execution_count": 14,
   "metadata": {
    "_cell_guid": "81d9ddc1-1adb-231e-c04b-432d4894528a",
    "collapsed": false
   },
   "outputs": [
    {
     "data": {
      "image/png": "[encoded data removed]",
      "text/plain": [
       "<matplotlib.figure.Figure at 0x11a62e7b8>"
      ]
     },
     "metadata": {},
     "output_type": "display_data"
    }
   ],
   "source": [
    "from multiprocessing import Pool, cpu_count\n",
    "\n",
    "def im_multi(path):\n",
    "    try:\n",
    "        im_stats_im_ = Image.open(path)\n",
    "        return [path, {'size': im_stats_im_.size}]\n",
    "    except:\n",
    "        print(path)\n",
    "        return [path, {'size': [0,0]}]\n",
    "\n",
    "def im_stats(im_stats_df):\n",
    "    im_stats_d = {}\n",
    "    p = Pool(cpu_count())\n",
    "    ret = p.map(im_multi, im_stats_df['path'])\n",
    "    for i in range(len(ret)):\n",
    "        im_stats_d[ret[i][0]] = ret[i][1]\n",
    "    im_stats_df['size'] = im_stats_df['path'].map(lambda x: ' '.join(str(s) for s in im_stats_d[x]['size']))\n",
    "    return im_stats_df\n",
    "\n",
    "train = im_stats(train)\n",
    "sizes = train.groupby('size', as_index=False)['path'].count()\n",
    "_ = sizes.plot(kind='bar', x='size', y='path', figsize=(7,4))"
   ]
  },
  {
   "cell_type": "code",
   "execution_count": 15,
   "metadata": {
    "_cell_guid": "e98204d4-3fed-4770-1b9b-1011fee0b3ee",
    "collapsed": false
   },
   "outputs": [
    {
     "data": {
      "text/html": [
       "<div>\n",
       "<table border=\"1\" class=\"dataframe\">\n",
       "  <thead>\n",
       "    <tr style=\"text-align: right;\">\n",
       "      <th></th>\n",
       "      <th>size</th>\n",
       "      <th>path</th>\n",
       "    </tr>\n",
       "  </thead>\n",
       "  <tbody>\n",
       "    <tr>\n",
       "      <th>0</th>\n",
       "      <td>200 200</td>\n",
       "      <td>1478</td>\n",
       "    </tr>\n",
       "  </tbody>\n",
       "</table>\n",
       "</div>"
      ],
      "text/plain": [
       "      size  path\n",
       "0  200 200  1478"
      ]
     },
     "execution_count": 15,
     "metadata": {},
     "output_type": "execute_result"
    }
   ],
   "source": [
    "sizes"
   ]
  },
  {
   "cell_type": "code",
   "execution_count": 17,
   "metadata": {
    "_cell_guid": "f9452504-bac2-67d8-b367-d9629d4ed944",
    "collapsed": false
   },
   "outputs": [
    {
     "name": "stdout",
     "output_type": "stream",
     "text": [
      "1478\n",
      "Fitting 2 folds for each of 5 candidates, totalling 10 fits\n",
      "[CV] opt_=adadelta, batch_size=15, nb_epoch=10 .......................\n"
     ]
    },
    {
     "name": "stderr",
     "output_type": "stream",
     "text": [
      "/Users/riccardosamperna/Programming/anaconda2/envs/python35/lib/python3.5/site-packages/ipykernel/__main__.py:45: UserWarning: Update your `Conv2D` call to the Keras 2 API: `Conv2D(8, (3, 3))`\n"
     ]
    },
    {
     "name": "stdout",
     "output_type": "stream",
     "text": [
      "Epoch 1/10\n",
      "4s - loss: 1.0755 - acc: 0.4864\n",
      "Epoch 2/10\n",
      "4s - loss: 1.0005 - acc: 0.5190\n",
      "Epoch 3/10\n",
      "3s - loss: 1.0479 - acc: 0.5000\n",
      "Epoch 4/10\n",
      "3s - loss: 0.9450 - acc: 0.5203\n",
      "Epoch 5/10\n",
      "3s - loss: 0.9527 - acc: 0.5352\n",
      "Epoch 6/10\n",
      "3s - loss: 0.9318 - acc: 0.5772\n",
      "Epoch 7/10\n",
      "3s - loss: 0.9292 - acc: 0.5312\n",
      "Epoch 8/10\n",
      "4s - loss: 0.9111 - acc: 0.5528\n",
      "Epoch 9/10\n",
      "4s - loss: 0.9018 - acc: 0.5556\n",
      "Epoch 10/10\n",
      "3s - loss: 0.8823 - acc: 0.5867\n",
      "[CV]  opt_=adadelta, batch_size=15, nb_epoch=10, score=0.439189, total= 1.0min\n",
      "[CV] opt_=adadelta, batch_size=15, nb_epoch=10 .......................\n"
     ]
    },
    {
     "name": "stderr",
     "output_type": "stream",
     "text": [
      "[Parallel(n_jobs=1)]: Done   1 out of   1 | elapsed:  1.1min remaining:    0.0s\n",
      "/Users/riccardosamperna/Programming/anaconda2/envs/python35/lib/python3.5/site-packages/ipykernel/__main__.py:45: UserWarning: Update your `Conv2D` call to the Keras 2 API: `Conv2D(8, (3, 3))`\n"
     ]
    },
    {
     "name": "stdout",
     "output_type": "stream",
     "text": [
      "Epoch 1/10\n",
      "4s - loss: 1.0558 - acc: 0.5027\n",
      "Epoch 2/10\n",
      "3s - loss: 0.9658 - acc: 0.5554\n",
      "Epoch 3/10\n",
      "3s - loss: 0.9478 - acc: 0.5243\n",
      "Epoch 4/10\n",
      "3s - loss: 0.9093 - acc: 0.5595\n",
      "Epoch 5/10\n",
      "3s - loss: 0.8887 - acc: 0.5716\n",
      "Epoch 6/10\n",
      "3s - loss: 0.9033 - acc: 0.5770\n",
      "Epoch 7/10\n",
      "4s - loss: 0.8985 - acc: 0.5554\n",
      "Epoch 8/10\n",
      "3s - loss: 0.8797 - acc: 0.5919\n",
      "Epoch 9/10\n",
      "3s - loss: 0.8654 - acc: 0.5959\n",
      "Epoch 10/10\n",
      "3s - loss: 0.8528 - acc: 0.6176\n",
      "[CV]  opt_=adadelta, batch_size=15, nb_epoch=10, score=0.455285, total=  45.3s\n",
      "[CV] opt_=sgd, batch_size=15, nb_epoch=10 ............................\n"
     ]
    },
    {
     "name": "stderr",
     "output_type": "stream",
     "text": [
      "[Parallel(n_jobs=1)]: Done   2 out of   2 | elapsed:  1.9min remaining:    0.0s\n"
     ]
    },
    {
     "name": "stdout",
     "output_type": "stream",
     "text": [
      "Epoch 1/10\n",
      "4s - loss: 12.9610 - acc: 0.1829\n",
      "Epoch 2/10\n",
      "3s - loss: 10.3267 - acc: 0.3591\n",
      "Epoch 3/10\n",
      "3s - loss: 7.6004 - acc: 0.5285\n",
      "Epoch 4/10\n",
      "3s - loss: 7.6004 - acc: 0.5285\n",
      "Epoch 5/10\n",
      "3s - loss: 7.6004 - acc: 0.5285\n",
      "Epoch 6/10\n",
      "3s - loss: 7.6004 - acc: 0.5285\n",
      "Epoch 7/10\n",
      "3s - loss: 7.6004 - acc: 0.5285\n",
      "Epoch 8/10\n",
      "3s - loss: 7.6004 - acc: 0.5285\n",
      "Epoch 9/10\n",
      "3s - loss: 7.6004 - acc: 0.5285\n",
      "Epoch 10/10\n",
      "3s - loss: 7.6004 - acc: 0.5285\n",
      "[CV]  opt_=sgd, batch_size=15, nb_epoch=10, score=0.527027, total=  48.8s\n",
      "[CV] opt_=sgd, batch_size=15, nb_epoch=10 ............................\n"
     ]
    },
    {
     "name": "stderr",
     "output_type": "stream",
     "text": [
      "[Parallel(n_jobs=1)]: Done   3 out of   3 | elapsed:  2.7min remaining:    0.0s\n",
      "/Users/riccardosamperna/Programming/anaconda2/envs/python35/lib/python3.5/site-packages/ipykernel/__main__.py:45: UserWarning: Update your `Conv2D` call to the Keras 2 API: `Conv2D(8, (3, 3))`\n"
     ]
    },
    {
     "name": "stdout",
     "output_type": "stream",
     "text": [
      "Epoch 1/10\n",
      "3s - loss: 9.6117 - acc: 0.3770\n",
      "Epoch 2/10\n",
      "3s - loss: 11.2173 - acc: 0.3041\n",
      "Epoch 3/10\n",
      "3s - loss: 11.2173 - acc: 0.3041\n",
      "Epoch 4/10\n",
      "4s - loss: 11.2173 - acc: 0.3041\n",
      "Epoch 5/10\n",
      "4s - loss: 11.2173 - acc: 0.3041\n",
      "Epoch 6/10\n",
      "4s - loss: 11.2173 - acc: 0.3041\n",
      "Epoch 7/10\n",
      "4s - loss: 11.2173 - acc: 0.3041\n",
      "Epoch 8/10\n",
      "4s - loss: 11.2173 - acc: 0.3041\n",
      "Epoch 9/10\n",
      "3s - loss: 11.2173 - acc: 0.3041\n",
      "Epoch 10/10\n",
      "3s - loss: 11.2173 - acc: 0.3041\n",
      "[CV]  opt_=sgd, batch_size=15, nb_epoch=10, score=0.303523, total=  47.8s\n",
      "[CV] opt_=adagrad, batch_size=15, nb_epoch=10 ........................\n"
     ]
    },
    {
     "name": "stderr",
     "output_type": "stream",
     "text": [
      "[Parallel(n_jobs=1)]: Done   4 out of   4 | elapsed:  3.6min remaining:    0.0s\n"
     ]
    },
    {
     "name": "stdout",
     "output_type": "stream",
     "text": [
      "Epoch 1/10\n",
      "4s - loss: 13.1736 - acc: 0.1707\n",
      "Epoch 2/10\n",
      "4s - loss: 13.4099 - acc: 0.1680\n",
      "Epoch 3/10\n",
      "3s - loss: 13.4099 - acc: 0.1680\n",
      "Epoch 4/10\n",
      "4s - loss: 13.4099 - acc: 0.1680\n",
      "Epoch 5/10\n",
      "3s - loss: 13.4099 - acc: 0.1680\n",
      "Epoch 6/10\n",
      "3s - loss: 13.4099 - acc: 0.1680\n",
      "Epoch 7/10\n",
      "3s - loss: 13.4099 - acc: 0.1680\n",
      "Epoch 8/10\n",
      "3s - loss: 13.4099 - acc: 0.1680\n",
      "Epoch 9/10\n",
      "4s - loss: 13.4099 - acc: 0.1680\n",
      "Epoch 10/10\n",
      "4s - loss: 13.4099 - acc: 0.1680\n",
      "[CV]  opt_=adagrad, batch_size=15, nb_epoch=10, score=0.168919, total=  53.9s\n",
      "[CV] opt_=adagrad, batch_size=15, nb_epoch=10 ........................\n"
     ]
    },
    {
     "name": "stderr",
     "output_type": "stream",
     "text": [
      "[Parallel(n_jobs=1)]: Done   5 out of   5 | elapsed:  4.5min remaining:    0.0s\n",
      "/Users/riccardosamperna/Programming/anaconda2/envs/python35/lib/python3.5/site-packages/ipykernel/__main__.py:45: UserWarning: Update your `Conv2D` call to the Keras 2 API: `Conv2D(8, (3, 3))`\n"
     ]
    },
    {
     "name": "stdout",
     "output_type": "stream",
     "text": [
      "Epoch 1/10\n",
      "4s - loss: 13.1416 - acc: 0.1730\n",
      "Epoch 2/10\n",
      "4s - loss: 13.3954 - acc: 0.1689\n",
      "Epoch 3/10\n",
      "3s - loss: 13.3954 - acc: 0.1689\n",
      "Epoch 4/10\n",
      "3s - loss: 13.3954 - acc: 0.1689\n",
      "Epoch 5/10\n",
      "3s - loss: 13.3954 - acc: 0.1689\n",
      "Epoch 6/10\n",
      "3s - loss: 13.3954 - acc: 0.1689\n",
      "Epoch 7/10\n",
      "3s - loss: 13.3954 - acc: 0.1689\n",
      "Epoch 8/10\n",
      "3s - loss: 13.3954 - acc: 0.1689\n",
      "Epoch 9/10\n",
      "3s - loss: 13.3954 - acc: 0.1689\n",
      "Epoch 10/10\n",
      "3s - loss: 13.3954 - acc: 0.1689\n",
      "[CV]  opt_=adagrad, batch_size=15, nb_epoch=10, score=0.168022, total=  44.0s\n",
      "[CV] opt_=adam, batch_size=15, nb_epoch=10 ...........................\n"
     ]
    },
    {
     "name": "stderr",
     "output_type": "stream",
     "text": [
      "[Parallel(n_jobs=1)]: Done   6 out of   6 | elapsed:  5.3min remaining:    0.0s\n"
     ]
    },
    {
     "name": "stdout",
     "output_type": "stream",
     "text": [
      "Epoch 1/10\n",
      "4s - loss: 1.2504 - acc: 0.4688\n",
      "Epoch 2/10\n",
      "3s - loss: 1.1234 - acc: 0.4946\n",
      "Epoch 3/10\n",
      "4s - loss: 1.0240 - acc: 0.5312\n",
      "Epoch 4/10\n",
      "3s - loss: 0.9710 - acc: 0.5366\n",
      "Epoch 5/10\n",
      "4s - loss: 0.9059 - acc: 0.5718\n",
      "Epoch 6/10\n",
      "3s - loss: 1.0223 - acc: 0.5271\n",
      "Epoch 7/10\n",
      "4s - loss: 1.0373 - acc: 0.5393\n",
      "Epoch 8/10\n",
      "3s - loss: 0.9829 - acc: 0.5528\n",
      "Epoch 9/10\n",
      "3s - loss: 0.9254 - acc: 0.5379\n",
      "Epoch 10/10\n",
      "4s - loss: 0.9647 - acc: 0.5447\n",
      "[CV]  opt_=adam, batch_size=15, nb_epoch=10, score=0.575676, total=  52.7s\n",
      "[CV] opt_=adam, batch_size=15, nb_epoch=10 ...........................\n"
     ]
    },
    {
     "name": "stderr",
     "output_type": "stream",
     "text": [
      "[Parallel(n_jobs=1)]: Done   7 out of   7 | elapsed:  6.2min remaining:    0.0s\n",
      "/Users/riccardosamperna/Programming/anaconda2/envs/python35/lib/python3.5/site-packages/ipykernel/__main__.py:45: UserWarning: Update your `Conv2D` call to the Keras 2 API: `Conv2D(8, (3, 3))`\n"
     ]
    },
    {
     "name": "stdout",
     "output_type": "stream",
     "text": [
      "Epoch 1/10\n",
      "3s - loss: 1.3547 - acc: 0.4878\n",
      "Epoch 2/10\n",
      "3s - loss: 0.9628 - acc: 0.5527\n",
      "Epoch 3/10\n",
      "3s - loss: 0.9185 - acc: 0.5689\n",
      "Epoch 4/10\n",
      "3s - loss: 0.9629 - acc: 0.5568\n",
      "Epoch 5/10\n",
      "3s - loss: 0.9066 - acc: 0.5878\n",
      "Epoch 6/10\n",
      "3s - loss: 0.9365 - acc: 0.5824\n",
      "Epoch 7/10\n",
      "4s - loss: 0.9107 - acc: 0.5703\n",
      "Epoch 8/10\n",
      "5s - loss: 0.8722 - acc: 0.5959\n",
      "Epoch 9/10\n",
      "3s - loss: 0.9716 - acc: 0.6068\n",
      "Epoch 10/10\n",
      "3s - loss: 0.9784 - acc: 0.5689\n",
      "[CV]  opt_=adam, batch_size=15, nb_epoch=10, score=0.578591, total=  48.6s\n",
      "[CV] opt_=adamax, batch_size=15, nb_epoch=10 .........................\n"
     ]
    },
    {
     "name": "stderr",
     "output_type": "stream",
     "text": [
      "[Parallel(n_jobs=1)]: Done   8 out of   8 | elapsed:  7.0min remaining:    0.0s\n"
     ]
    },
    {
     "name": "stdout",
     "output_type": "stream",
     "text": [
      "Epoch 1/10\n",
      "4s - loss: 1.4560 - acc: 0.4783\n",
      "Epoch 2/10\n",
      "4s - loss: 1.0400 - acc: 0.4864\n",
      "Epoch 3/10\n",
      "3s - loss: 0.9797 - acc: 0.5081\n",
      "Epoch 4/10\n",
      "3s - loss: 0.9534 - acc: 0.5379\n",
      "Epoch 5/10\n",
      "3s - loss: 0.9284 - acc: 0.5488\n",
      "Epoch 6/10\n",
      "4s - loss: 0.9310 - acc: 0.5447\n",
      "Epoch 7/10\n",
      "3s - loss: 0.9683 - acc: 0.5352\n",
      "Epoch 8/10\n",
      "3s - loss: 0.9537 - acc: 0.5515\n",
      "Epoch 9/10\n",
      "3s - loss: 0.9166 - acc: 0.5650\n",
      "Epoch 10/10\n",
      "4s - loss: 0.8955 - acc: 0.5691\n",
      "[CV]  opt_=adamax, batch_size=15, nb_epoch=10, score=0.597297, total=  47.3s\n",
      "[CV] opt_=adamax, batch_size=15, nb_epoch=10 .........................\n"
     ]
    },
    {
     "name": "stderr",
     "output_type": "stream",
     "text": [
      "[Parallel(n_jobs=1)]: Done   9 out of   9 | elapsed:  7.9min remaining:    0.0s\n"
     ]
    },
    {
     "name": "stdout",
     "output_type": "stream",
     "text": [
      "Epoch 1/10\n",
      "4s - loss: 3.0371 - acc: 0.4257\n",
      "Epoch 2/10\n",
      "3s - loss: 1.0888 - acc: 0.4703\n",
      "Epoch 3/10\n",
      "4s - loss: 0.9285 - acc: 0.5541\n",
      "Epoch 4/10\n",
      "4s - loss: 0.9065 - acc: 0.5676\n",
      "Epoch 5/10\n",
      "4s - loss: 0.9295 - acc: 0.5622\n",
      "Epoch 6/10\n",
      "4s - loss: 0.8713 - acc: 0.6000\n",
      "Epoch 7/10\n",
      "3s - loss: 0.8842 - acc: 0.5784\n",
      "Epoch 8/10\n",
      "4s - loss: 0.8921 - acc: 0.5622\n",
      "Epoch 9/10\n",
      "4s - loss: 0.8842 - acc: 0.5824\n",
      "Epoch 10/10\n",
      "3s - loss: 0.8490 - acc: 0.6122\n",
      "[CV]  opt_=adamax, batch_size=15, nb_epoch=10, score=0.573171, total=  48.2s\n"
     ]
    },
    {
     "name": "stderr",
     "output_type": "stream",
     "text": [
      "[Parallel(n_jobs=1)]: Done  10 out of  10 | elapsed:  8.7min remaining:    0.0s\n",
      "[Parallel(n_jobs=1)]: Done  10 out of  10 | elapsed:  8.7min finished\n"
     ]
    },
    {
     "name": "stdout",
     "output_type": "stream",
     "text": [
      "Epoch 1/10\n",
      "8s - loss: 7.7135 - acc: 0.4986\n",
      "Epoch 2/10\n",
      "8s - loss: 7.6119 - acc: 0.5277\n",
      "Epoch 3/10\n",
      "7s - loss: 7.6119 - acc: 0.5277\n",
      "Epoch 4/10\n",
      "8s - loss: 7.6119 - acc: 0.5277\n",
      "Epoch 5/10\n",
      "7s - loss: 7.6119 - acc: 0.5277\n",
      "Epoch 6/10\n",
      "8s - loss: 7.6119 - acc: 0.5277\n",
      "Epoch 7/10\n",
      "8s - loss: 7.6119 - acc: 0.5277\n",
      "Epoch 8/10\n",
      "8s - loss: 7.6119 - acc: 0.5277\n",
      "Epoch 9/10\n",
      "8s - loss: 7.6119 - acc: 0.5277\n",
      "Epoch 10/10\n",
      "11s - loss: 7.6119 - acc: 0.5277\n",
      "Best: 0.585250 using {'opt_': 'adamax', 'batch_size': 15, 'nb_epoch': 10}\n",
      "0.447237 (0.008048) with: {'opt_': 'adadelta', 'batch_size': 15, 'nb_epoch': 10}\n",
      "0.415275 (0.111752) with: {'opt_': 'sgd', 'batch_size': 15, 'nb_epoch': 10}\n",
      "0.168470 (0.000449) with: {'opt_': 'adagrad', 'batch_size': 15, 'nb_epoch': 10}\n",
      "0.577133 (0.001458) with: {'opt_': 'adam', 'batch_size': 15, 'nb_epoch': 10}\n",
      "0.585234 (0.012063) with: {'opt_': 'adamax', 'batch_size': 15, 'nb_epoch': 10}\n"
     ]
    },
    {
     "name": "stderr",
     "output_type": "stream",
     "text": [
      "/Users/riccardosamperna/Programming/anaconda2/envs/python35/lib/python3.5/site-packages/sklearn/model_selection/_search.py:667: DeprecationWarning: The grid_scores_ attribute was deprecated in version 0.18 in favor of the more elaborate cv_results_ attribute. The grid_scores_ attribute will not be available from 0.20\n",
      "  DeprecationWarning)\n"
     ]
    }
   ],
   "source": [
    "from sklearn.model_selection import GridSearchCV, StratifiedKFold\n",
    "from sklearn.preprocessing import LabelEncoder\n",
    "from sklearn.metrics import log_loss\n",
    "from keras.wrappers.scikit_learn import KerasClassifier\n",
    "from keras.models import Sequential\n",
    "from keras.layers.core import Dense, Dropout, Flatten\n",
    "from keras.layers.convolutional import Convolution2D, ZeroPadding2D, MaxPooling2D\n",
    "from keras import optimizers\n",
    "\n",
    "def get_im_cv2(path):\n",
    "    img = cv2.imread(path)\n",
    "    resized = cv2.resize(img, (200, 200), cv2.INTER_LINEAR)\n",
    "    return [path, resized]\n",
    "\n",
    "def normalize_image_features(paths):\n",
    "    imf_d = {}\n",
    "    p = Pool(cpu_count())\n",
    "    ret = p.map(get_im_cv2, paths)\n",
    "    for i in range(len(ret)):\n",
    "        imf_d[ret[i][0]] = ret[i][1]\n",
    "    ret = []\n",
    "    fdata = [imf_d[f] for f in paths]\n",
    "    fdata = np.array(fdata, dtype=np.uint8)\n",
    "    fdata = fdata.transpose((0, 3, 1, 2))\n",
    "    fdata = fdata.astype('float32')\n",
    "    fdata = fdata / 255\n",
    "    return fdata\n",
    "\n",
    "#train = glob.glob('../input/train/**/*.jpg') + glob.glob('../input/additional/**/*.jpg')\n",
    "print(len(train))\n",
    "#train = pd.DataFrame([[p.split('/')[3],p.split('/')[4],p] for p in train], columns = ['type','image','path'])\n",
    "train = train[train['size'] != '0 0'].reset_index(drop=True) #remove bad images\n",
    "train_data = normalize_image_features(train['path'])\n",
    "#np.save('train.npy', train_data, allow_pickle=True, fix_imports=True)\n",
    "#train_data = np.load('train.npy')\n",
    "\n",
    "le = LabelEncoder()\n",
    "train_target = le.fit_transform(train['type'].values)\n",
    "#np.save('train_target.npy', train_target, allow_pickle=True, fix_imports=True)\n",
    "#train_target = np.load('train_target.npy')\n",
    "\n",
    "def create_model(opt_):\n",
    "    model = Sequential()\n",
    "    model.add(ZeroPadding2D((1, 1), input_shape=(3, 200, 200)))\n",
    "    model.add(Convolution2D(8, 3, 3))\n",
    "    model.add(Dropout(0.2))\n",
    "    model.add(Dense(12))\n",
    "    model.add(Dropout(0.2))\n",
    "    model.add(Dense(6))\n",
    "    model.add(Flatten())\n",
    "    model.add(Dense(3, activation='softmax'))\n",
    "\n",
    "    model.compile(optimizer=opt_, loss='sparse_categorical_crossentropy', metrics=['accuracy']) #loss='binary_crossentropy' not working\n",
    "    return model\n",
    "\n",
    "model = KerasClassifier(build_fn=create_model, nb_epoch=10, batch_size=15, verbose=2)\n",
    "opts_ = ['adadelta','sgd','adagrad','adam','adamax']\n",
    "epochs = np.array([10])\n",
    "batches = np.array([15])\n",
    "param_grid = dict(nb_epoch=epochs, batch_size=batches, opt_=opts_)\n",
    "grid = GridSearchCV(estimator=model, cv=StratifiedKFold(n_splits=2), param_grid=param_grid, verbose=20)\n",
    "grid_result = grid.fit(train_data, train_target)\n",
    "\n",
    "print(\"Best: %f using %s\" % (grid_result.best_score_, grid_result.best_params_))\n",
    "for params, mean_score, scores in grid_result.grid_scores_:\n",
    "    print(\"%f (%f) with: %r\" % (scores.mean(), scores.std(), params))\n",
    "#print(\"Log Loss...\", log_loss(train_target, grid_result.predict(train_data)))\n",
    "\n",
    "test_data = normalize_image_features(test['path'])\n",
    "#np.save('test.npy', test_data, allow_pickle=True, fix_imports=True)\n",
    "#test_data = np.load('test.npy')\n",
    "test_id = test.image.values\n",
    "#np.save('test_id.npy', test_id, allow_pickle=True, fix_imports=True)\n",
    "#test_id = np.load('test_id.npy')\n",
    "\n",
    "pred = grid_result.predict_proba(test_data)\n",
    "df = pd.DataFrame(pred, columns=le.classes_)\n",
    "df['image_name'] = test_id\n",
    "df.to_csv('submission.csv', index=False)\n"
   ]
  },
  {
   "cell_type": "code",
   "execution_count": null,
   "metadata": {
    "collapsed": true
   },
   "outputs": [],
   "source": []
  }
 ],
 "metadata": {
  "_change_revision": 85,
  "_is_fork": false,
  "anaconda-cloud": {},
  "kernelspec": {
   "display_name": "Python [python35]",
   "language": "python",
   "name": "Python [python35]"
  },
  "language_info": {
   "codemirror_mode": {
    "name": "ipython",
    "version": 3
   },
   "file_extension": ".py",
   "mimetype": "text/x-python",
   "name": "python",
   "nbconvert_exporter": "python",
   "pygments_lexer": "ipython3",
   "version": "3.5.2"
  }
 },
 "nbformat": 4,
 "nbformat_minor": 0
}
